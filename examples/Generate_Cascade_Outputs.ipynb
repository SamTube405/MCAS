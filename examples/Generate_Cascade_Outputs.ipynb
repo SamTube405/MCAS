{
 "cells": [
  {
   "cell_type": "code",
   "execution_count": null,
   "metadata": {},
   "outputs": [],
   "source": [
    "import pandas as pd\n",
    "import numpy as np\n",
    "import matplotlib.pyplot as plt\n",
    "import seaborn as sns\n",
    "import glob\n",
    "import pickle\n",
    "import os"
   ]
  },
  {
   "cell_type": "code",
   "execution_count": null,
   "metadata": {},
   "outputs": [],
   "source": [
    "def create_dir(x_dir):\n",
    "    if not os.path.exists(x_dir):\n",
    "        os.makedirs(x_dir)\n",
    "        print(\"Created new dir. %s\"%x_dir)\n",
    "    else:\n",
    "        print(\"Dir. already exists\")"
   ]
  },
  {
   "cell_type": "markdown",
   "metadata": {},
   "source": [
    "### Load cascade outputs"
   ]
  },
  {
   "cell_type": "code",
   "execution_count": null,
   "metadata": {},
   "outputs": [],
   "source": [
    "domain = \"domain_name\"\n",
    "domain_out = domain\n",
    "\n",
    "platform = \"platform_name\"\n",
    "\n",
    "models = [\"MCAS-BLENDED-INTERNAL\", \"MCAS-BLENDED-EXOG\", \"MCAS-META-ENSEMBLE\", \"MCAS-ENSEMBLE\"]"
   ]
  },
  {
   "cell_type": "code",
   "execution_count": null,
   "metadata": {},
   "outputs": [],
   "source": [
    "for model_id in models:\n",
    "    file_name = model.lower()\n",
    "    domain_ = domain_out.split(\"_\")[0]\n",
    "    domain_id = \"_\".join(domain_out.split(\"_\")[1:])\n",
    "\n",
    "    # domain_name = domain_+\"_\"+domain_id\n",
    "    domain_name = domain\n",
    "    orig_path = \"../output/{3}/{0}/{1}/{2}/\".format(domain_, domain_id, model_id, platform)\n",
    "\n",
    "    save_path = \"../newuser_module/Simulation_cascade_output/{0}/{2}/{1}/\".format(domain_name, model_id, platform)\n",
    "    print(orig_path)\n",
    "    print(save_path)\n",
    "    \n",
    "    create_dir(save_path)\n",
    "    sim_datas=[]\n",
    "    for i in range(1,2):\n",
    "        sim_data=[]\n",
    "        for x in glob.glob(orig_path+\"cascade_vV%d-*pkl.gz\"%i):\n",
    "            print(x)\n",
    "            sim_data.append(pd.read_pickle(x))\n",
    "        sim_data=pd.concat(sim_data)\n",
    "        sim_data['nodeTime']=pd.to_datetime(sim_data['nodeTime'],unit='s')\n",
    "        sim_data.sort_values(by='nodeTime',inplace=True)\n",
    "        sim_data['version']=i\n",
    "        sim_data = sim_data.reset_index(drop=True)\n",
    "        file_id = file_name+\"_v\"+str(i)+\".pkl.gz\"\n",
    "        print(i,sim_data.shape[0])\n",
    "        sim_datas.append(sim_data.reset_index(drop=True))\n",
    "\n",
    "        sim_data.to_pickle(save_path+file_id)\n",
    "        print(\"Saved!\",save_path+file_id)"
   ]
  }
 ],
 "metadata": {
  "kernelspec": {
   "display_name": "Python [conda env:pnnl_socialsim]",
   "language": "python",
   "name": "conda-env-pnnl_socialsim-py"
  },
  "language_info": {
   "codemirror_mode": {
    "name": "ipython",
    "version": 3
   },
   "file_extension": ".py",
   "mimetype": "text/x-python",
   "name": "python",
   "nbconvert_exporter": "python",
   "pygments_lexer": "ipython3",
   "version": "3.6.8"
  }
 },
 "nbformat": 4,
 "nbformat_minor": 2
}
